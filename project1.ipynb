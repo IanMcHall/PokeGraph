{
 "cells": [
  {
   "cell_type": "code",
   "execution_count": 29,
   "metadata": {},
   "outputs": [
    {
     "data": {
      "text/plain": [
       "Type\n",
       "Bug         12\n",
       "Dragon       3\n",
       "Electric     9\n",
       "Fairy        2\n",
       "Fighting     7\n",
       "Fire        12\n",
       "Ghost        3\n",
       "Grass       12\n",
       "Ground       8\n",
       "Ice          2\n",
       "Normal      22\n",
       "Poison      14\n",
       "Psychic      8\n",
       "Rock         9\n",
       "Water       28\n",
       "dtype: int64"
      ]
     },
     "execution_count": 29,
     "metadata": {},
     "output_type": "execute_result"
    }
   ],
   "source": [
    "import pandas as pd\n",
    "import matplotlib as mpl\n",
    "import matplotlib.pyplot as plt\n",
    "import numpy as np\n",
    "\n",
    "df = pd.read_excel('assets/Pokemon1.xlsx')\n",
    "\n",
    "\n",
    "#Total number of each type in Type column KEEP AT ALL COSTS\n",
    "df.pivot_table(columns=['Type'], aggfunc='size')\n",
    "\n"
   ]
  },
  {
   "cell_type": "code",
   "execution_count": 30,
   "metadata": {},
   "outputs": [
    {
     "data": {
      "text/plain": [
       "B Type\n",
       "Fairy        3\n",
       "Fighting     1\n",
       "Flying      18\n",
       "Grass        2\n",
       "Ground       6\n",
       "Ice          3\n",
       "Poision      1\n",
       "Poison      18\n",
       "Psychic      6\n",
       "Rock         2\n",
       "Steel        2\n",
       "Water        4\n",
       "dtype: int64"
      ]
     },
     "execution_count": 30,
     "metadata": {},
     "output_type": "execute_result"
    }
   ],
   "source": [
    "df.pivot_table(columns=['B Type'], aggfunc='size')"
   ]
  }
 ],
 "metadata": {
  "kernelspec": {
   "display_name": "Python 3.9.12 ('base')",
   "language": "python",
   "name": "python3"
  },
  "language_info": {
   "codemirror_mode": {
    "name": "ipython",
    "version": 3
   },
   "file_extension": ".py",
   "mimetype": "text/x-python",
   "name": "python",
   "nbconvert_exporter": "python",
   "pygments_lexer": "ipython3",
   "version": "3.9.12"
  },
  "orig_nbformat": 4,
  "vscode": {
   "interpreter": {
    "hash": "60f78043bbc06f254484683f8c6fcf07dae89b2254033de805bd0a1d9cd42796"
   }
  }
 },
 "nbformat": 4,
 "nbformat_minor": 2
}
