{
 "cells": [
  {
   "cell_type": "code",
   "execution_count": 35,
   "metadata": {},
   "outputs": [
    {
     "data": {
      "text/plain": [
       "<AxesSubplot:xlabel='Type'>"
      ]
     },
     "execution_count": 35,
     "metadata": {},
     "output_type": "execute_result"
    },
    {
     "data": {
      "image/png": "[encoded data removed]",
      "text/plain": [
       "<Figure size 432x288 with 1 Axes>"
      ]
     },
     "metadata": {
      "needs_background": "light"
     },
     "output_type": "display_data"
    }
   ],
   "source": [
    "import pandas as pd\n",
    "import matplotlib as mpl\n",
    "import matplotlib.pyplot as plt\n",
    "import numpy as np\n",
    "import math\n",
    "\n",
    "df = pd.read_excel('assets/Pokemon1.xlsx')\n",
    "\n",
    "#Total number of each type in Type column KEEP AT ALL COSTS\n",
    "\n",
    "df.pivot_table(columns=['Type'], aggfunc='size').plot(kind = 'bar')\n",
    "\n"
   ]
  },
  {
   "cell_type": "code",
   "execution_count": 36,
   "metadata": {},
   "outputs": [
    {
     "name": "stdout",
     "output_type": "stream",
     "text": [
      "There are 151 Pokemon.\n",
      "On average, there are 10 of each Pokemon type.\n",
      "The median number of these Pokemon types is 9.0\n",
      "The most frequent Pokemon types have 12 unique Pokemon.\n"
     ]
    }
   ],
   "source": [
    "sum = df.pivot_table(columns=['Type'], aggfunc='size').sum()\n",
    "proto_mean = df.pivot_table(columns=['Type'], aggfunc='size').mean()\n",
    "mean = math.floor(proto_mean)\n",
    "median = df.pivot_table(columns=['Type'], aggfunc='size').median()\n",
    "mode = df.pivot_table(columns=['Type'], aggfunc='size').mode().iloc[0]\n",
    "\n",
    "str_1= 'There are'\n",
    "str_2 = 'On average, there are'\n",
    "str_3 = 'The median number of these Pokemon types is'\n",
    "str_4 = 'The most frequent Pokemon types have'\n",
    "\n",
    "sum_result = f'{str_1} {sum} Pokemon.'\n",
    "mean_result = f'{str_2} {mean} of each Pokemon type.'\n",
    "median_result = f'{str_3} {median}'\n",
    "#What's going on with this?\n",
    "mode_result = f'{str_4} {mode} unique Pokemon.'\n",
    "\n",
    "print(sum_result)\n",
    "#Can I round this to a whole number?\n",
    "print(mean_result)\n",
    "print(median_result)\n",
    "print(mode_result)"
   ]
  },
  {
   "cell_type": "code",
   "execution_count": 37,
   "metadata": {},
   "outputs": [
    {
     "data": {
      "text/plain": [
       "<AxesSubplot:xlabel='B Type'>"
      ]
     },
     "execution_count": 37,
     "metadata": {},
     "output_type": "execute_result"
    },
    {
     "data": {
      "image/png": "[encoded data removed]",
      "text/plain": [
       "<Figure size 432x288 with 1 Axes>"
      ]
     },
     "metadata": {
      "needs_background": "light"
     },
     "output_type": "display_data"
    }
   ],
   "source": [
    "df.fillna('None', inplace=True)\n",
    "\n",
    "df.pivot_table(columns=['B Type'], aggfunc='size').plot(kind = 'bar')\n"
   ]
  },
  {
   "cell_type": "code",
   "execution_count": 38,
   "metadata": {},
   "outputs": [
    {
     "name": "stdout",
     "output_type": "stream",
     "text": [
      "There are 151 Pokemon with secondary types.\n",
      "On average, there are 11 of each secondary Pokemon type.\n",
      "The median number of these Pokemon types is 3.0\n",
      "The most frequent secondary Pokemon types have 2 unique Pokemon\n"
     ]
    }
   ],
   "source": [
    "B_sum = df.pivot_table(columns=['B Type'], aggfunc='size').sum()\n",
    "proto_b_mean = df.pivot_table(columns=['B Type'], aggfunc='size').mean()\n",
    "B_mean = math.floor(proto_b_mean)\n",
    "B_median = df.pivot_table(columns=['B Type'], aggfunc='size').median()\n",
    "B_mode = df.pivot_table(columns=['B Type'], aggfunc='size').mode().iloc[0]\n",
    "\n",
    "B_str_4 = 'The most frequent secondary Pokemon types have'\n",
    "\n",
    "B_sum_result = f'{str_1} {B_sum} Pokemon with secondary types.'\n",
    "B_mean_result = f'{str_2} {B_mean} of each secondary Pokemon type.'\n",
    "B_median_result = f'{str_3} {B_median}'\n",
    "#What's going on with this?\n",
    "B_mode_result = f'{B_str_4} {B_mode} unique Pokemon'\n",
    "\n",
    "print(B_sum_result)\n",
    "#Can I round this to a whole number?\n",
    "print(B_mean_result)\n",
    "print(B_median_result)\n",
    "print(B_mode_result)"
   ]
  },
  {
   "cell_type": "code",
   "execution_count": 39,
   "metadata": {},
   "outputs": [
    {
     "data": {
      "text/plain": [
       "Bug          NaN\n",
       "Dragon       NaN\n",
       "Electric     NaN\n",
       "Fairy        5.0\n",
       "Fighting     8.0\n",
       "Fire         NaN\n",
       "Flying       NaN\n",
       "Ghost        NaN\n",
       "Grass       14.0\n",
       "Ground      14.0\n",
       "Ice          5.0\n",
       "None         NaN\n",
       "Normal       NaN\n",
       "Poision      NaN\n",
       "Poison      32.0\n",
       "Psychic     14.0\n",
       "Rock        11.0\n",
       "Steel        NaN\n",
       "Water       32.0\n",
       "dtype: float64"
      ]
     },
     "execution_count": 39,
     "metadata": {},
     "output_type": "execute_result"
    }
   ],
   "source": [
    "df.pivot_table(columns=['Type'], aggfunc='size') + df.pivot_table(columns=['B Type'], aggfunc='size')"
   ]
  }
 ],
 "metadata": {
  "kernelspec": {
   "display_name": "Python 3.9.12 ('base')",
   "language": "python",
   "name": "python3"
  },
  "language_info": {
   "codemirror_mode": {
    "name": "ipython",
    "version": 3
   },
   "file_extension": ".py",
   "mimetype": "text/x-python",
   "name": "python",
   "nbconvert_exporter": "python",
   "pygments_lexer": "ipython3",
   "version": "3.9.12"
  },
  "orig_nbformat": 4,
  "vscode": {
   "interpreter": {
    "hash": "60f78043bbc06f254484683f8c6fcf07dae89b2254033de805bd0a1d9cd42796"
   }
  }
 },
 "nbformat": 4,
 "nbformat_minor": 2
}
